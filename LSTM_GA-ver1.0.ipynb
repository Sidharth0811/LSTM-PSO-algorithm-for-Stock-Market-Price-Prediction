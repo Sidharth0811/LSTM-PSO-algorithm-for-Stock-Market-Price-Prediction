{
  "nbformat": 4,
  "nbformat_minor": 0,
  "metadata": {
    "colab": {
      "provenance": [],
      "gpuType": "T4"
    },
    "kernelspec": {
      "name": "python3",
      "display_name": "Python 3"
    },
    "language_info": {
      "name": "python"
    },
    "accelerator": "GPU"
  },
  "cells": [
    {
      "cell_type": "code",
      "execution_count": 1,
      "metadata": {
        "colab": {
          "base_uri": "https://localhost:8080/"
        },
        "id": "TutttmOswuLi",
        "outputId": "b00b443e-7c5d-4552-a842-19a9b94fd326"
      },
      "outputs": [
        {
          "output_type": "stream",
          "name": "stdout",
          "text": [
            "Collecting mplfinance\n",
            "  Downloading mplfinance-0.12.10b0-py3-none-any.whl (75 kB)\n",
            "\u001b[?25l     \u001b[90m━━━━━━━━━━━━━━━━━━━━━━━━━━━━━━━━━━━━━━━━\u001b[0m \u001b[32m0.0/75.0 kB\u001b[0m \u001b[31m?\u001b[0m eta \u001b[36m-:--:--\u001b[0m\r\u001b[2K     \u001b[90m━━━━━━━━━━━━━━━━━━━━━━━━━━━━━━━━━━━━━━━━\u001b[0m \u001b[32m75.0/75.0 kB\u001b[0m \u001b[31m3.1 MB/s\u001b[0m eta \u001b[36m0:00:00\u001b[0m\n",
            "\u001b[?25hRequirement already satisfied: matplotlib in /usr/local/lib/python3.10/dist-packages (from mplfinance) (3.7.1)\n",
            "Requirement already satisfied: pandas in /usr/local/lib/python3.10/dist-packages (from mplfinance) (1.5.3)\n",
            "Requirement already satisfied: contourpy>=1.0.1 in /usr/local/lib/python3.10/dist-packages (from matplotlib->mplfinance) (1.2.0)\n",
            "Requirement already satisfied: cycler>=0.10 in /usr/local/lib/python3.10/dist-packages (from matplotlib->mplfinance) (0.12.1)\n",
            "Requirement already satisfied: fonttools>=4.22.0 in /usr/local/lib/python3.10/dist-packages (from matplotlib->mplfinance) (4.48.1)\n",
            "Requirement already satisfied: kiwisolver>=1.0.1 in /usr/local/lib/python3.10/dist-packages (from matplotlib->mplfinance) (1.4.5)\n",
            "Requirement already satisfied: numpy>=1.20 in /usr/local/lib/python3.10/dist-packages (from matplotlib->mplfinance) (1.25.2)\n",
            "Requirement already satisfied: packaging>=20.0 in /usr/local/lib/python3.10/dist-packages (from matplotlib->mplfinance) (23.2)\n",
            "Requirement already satisfied: pillow>=6.2.0 in /usr/local/lib/python3.10/dist-packages (from matplotlib->mplfinance) (9.4.0)\n",
            "Requirement already satisfied: pyparsing>=2.3.1 in /usr/local/lib/python3.10/dist-packages (from matplotlib->mplfinance) (3.1.1)\n",
            "Requirement already satisfied: python-dateutil>=2.7 in /usr/local/lib/python3.10/dist-packages (from matplotlib->mplfinance) (2.8.2)\n",
            "Requirement already satisfied: pytz>=2020.1 in /usr/local/lib/python3.10/dist-packages (from pandas->mplfinance) (2023.4)\n",
            "Requirement already satisfied: six>=1.5 in /usr/local/lib/python3.10/dist-packages (from python-dateutil>=2.7->matplotlib->mplfinance) (1.16.0)\n",
            "Installing collected packages: mplfinance\n",
            "Successfully installed mplfinance-0.12.10b0\n"
          ]
        }
      ],
      "source": [
        "!pip install --upgrade mplfinance"
      ]
    },
    {
      "cell_type": "code",
      "source": [
        "import numpy as np\n",
        "import pandas as pd\n",
        "import yfinance as yf\n",
        "from sklearn.preprocessing import MinMaxScaler\n",
        "from sklearn.metrics import mean_squared_error\n",
        "from sklearn.model_selection import train_test_split\n",
        "from tensorflow.keras.models import Sequential\n",
        "from tensorflow.keras.layers import LSTM, Dense, Dropout\n",
        "import matplotlib.pyplot as plt"
      ],
      "metadata": {
        "colab": {
          "base_uri": "https://localhost:8080/"
        },
        "id": "AXEVcRdGHYbe",
        "outputId": "bed63162-b596-4906-b2fd-d77a0acc3306"
      },
      "execution_count": 2,
      "outputs": [
        {
          "output_type": "stream",
          "name": "stderr",
          "text": [
            "/usr/local/lib/python3.10/dist-packages/yfinance/base.py:48: FutureWarning: The default dtype for empty Series will be 'object' instead of 'float64' in a future version. Specify a dtype explicitly to silence this warning.\n",
            "  _empty_series = pd.Series()\n"
          ]
        }
      ]
    },
    {
      "cell_type": "code",
      "source": [
        "# Download stock data\n",
        "stock_data = yf.download('AAPL', start='2020-01-01', end='2024-01-01')\n",
        "specific_df = pd.DataFrame(stock_data).reset_index()\n"
      ],
      "metadata": {
        "colab": {
          "base_uri": "https://localhost:8080/"
        },
        "id": "FzyVu9btHYgf",
        "outputId": "9f1efac9-afa5-4120-e255-b3b5bad4712e"
      },
      "execution_count": 3,
      "outputs": [
        {
          "output_type": "stream",
          "name": "stderr",
          "text": [
            "\r[*********************100%%**********************]  1 of 1 completed\n"
          ]
        }
      ]
    },
    {
      "cell_type": "code",
      "source": [
        "# Use closing price as the target variable\n",
        "target_col = 'Close'\n",
        "\n",
        "# Feature engineering\n",
        "specific_df['Date'] = pd.to_datetime(specific_df['Date'])\n",
        "specific_df['Year'] = specific_df['Date'].dt.year\n",
        "specific_df['Month'] = specific_df['Date'].dt.month\n",
        "specific_df['Day'] = specific_df['Date'].dt.day"
      ],
      "metadata": {
        "id": "9ccYfPiDHYll"
      },
      "execution_count": 4,
      "outputs": []
    },
    {
      "cell_type": "code",
      "source": [
        "# Normalize data\n",
        "scaler = MinMaxScaler()\n",
        "scaled_data = scaler.fit_transform(specific_df[[target_col]])\n"
      ],
      "metadata": {
        "id": "_X8Zq0aKHYqk"
      },
      "execution_count": 5,
      "outputs": []
    },
    {
      "cell_type": "code",
      "source": [
        "# Define genetic algorithm parameters\n",
        "population_size = 20\n",
        "num_generations = 10\n",
        "mutation_rate = 0.02"
      ],
      "metadata": {
        "id": "Cru8F5U7Ht-x"
      },
      "execution_count": 6,
      "outputs": []
    },
    {
      "cell_type": "code",
      "source": [
        "# Split data into training and testing sets\n",
        "train_size = int(len(scaled_data) * 0.8)\n",
        "train_data, test_data = scaled_data[0:train_size, :], scaled_data[train_size:len(scaled_data), :]\n"
      ],
      "metadata": {
        "id": "f1Eq7p84HvIi"
      },
      "execution_count": 7,
      "outputs": []
    },
    {
      "cell_type": "code",
      "source": [
        "# Function to generate sequences and labels for LSTM\n",
        "def generate_sequences_and_labels(data, n_past):\n",
        "    sequences, labels = [], []\n",
        "    for i in range(len(data)-n_past):\n",
        "        sequences.append(data[i:i+n_past])\n",
        "        labels.append(data[i+n_past, 0])\n",
        "    return np.array(sequences), np.array(labels)\n"
      ],
      "metadata": {
        "id": "5wwA4k45HwNI"
      },
      "execution_count": 8,
      "outputs": []
    },
    {
      "cell_type": "code",
      "source": [
        "# Set the number of past days to consider for prediction\n",
        "n_past = 60\n",
        "x_train, y_train = generate_sequences_and_labels(train_data, n_past)\n",
        "x_test, y_test = generate_sequences_and_labels(test_data, n_past)\n"
      ],
      "metadata": {
        "id": "XRT5efFmHxeD"
      },
      "execution_count": 9,
      "outputs": []
    },
    {
      "cell_type": "code",
      "source": [
        "# Genetic Algorithm\n",
        "def initialize_population():\n",
        "    return {\n",
        "        'lstm_units': np.random.randint(50, 200),\n",
        "        'dropout_rate': np.random.uniform(0.2, 0.5),\n",
        "        'learning_rate': 10 ** np.random.uniform(-4, -2)\n",
        "    }\n"
      ],
      "metadata": {
        "id": "Dos1KljCHypF"
      },
      "execution_count": 10,
      "outputs": []
    },
    {
      "cell_type": "code",
      "source": [
        "def create_lstm_model(lstm_units, dropout_rate, learning_rate):\n",
        "    model = Sequential()\n",
        "    model.add(LSTM(units=lstm_units, input_shape=(n_past, 1)))\n",
        "    model.add(Dropout(dropout_rate))\n",
        "    model.add(Dense(1))\n",
        "    model.compile(optimizer='adam', loss='mean_squared_error')\n",
        "    return model"
      ],
      "metadata": {
        "id": "kFhpcGElHz3v"
      },
      "execution_count": 11,
      "outputs": []
    },
    {
      "cell_type": "code",
      "source": [
        "def fitness(params, x_train, y_train, x_test, y_test):\n",
        "    lstm_units = params['lstm_units']\n",
        "    dropout_rate = params['dropout_rate']\n",
        "    learning_rate = params['learning_rate']\n",
        "\n",
        "    model = create_lstm_model(lstm_units, dropout_rate, learning_rate)\n",
        "\n",
        "    model.fit(x_train, y_train, epochs=10, batch_size=32, verbose=0)\n",
        "\n",
        "    train_predictions = model.predict(x_train)\n",
        "    test_predictions = model.predict(x_test)\n",
        "\n",
        "    train_mse = mean_squared_error(y_train, train_predictions)\n",
        "    test_mse = mean_squared_error(y_test, test_predictions)\n",
        "\n",
        "    # Maximize negative mean squared error\n",
        "    return -test_mse"
      ],
      "metadata": {
        "id": "3VTAonfYH1m1"
      },
      "execution_count": 12,
      "outputs": []
    },
    {
      "cell_type": "code",
      "source": [
        "def mutate(params):\n",
        "    for key in params.keys():\n",
        "        if np.random.rand() < mutation_rate:\n",
        "            if key == 'lstm_units':\n",
        "                params[key] = np.random.randint(50, 200)\n",
        "            elif key == 'dropout_rate':\n",
        "                params[key] = np.random.uniform(0.2, 0.5)\n",
        "            elif key == 'learning_rate':\n",
        "                params[key] = 10 ** np.random.uniform(-4, -2)\n",
        "    return params"
      ],
      "metadata": {
        "id": "G8NTh0_EH3H5"
      },
      "execution_count": 13,
      "outputs": []
    },
    {
      "cell_type": "code",
      "source": [
        "def crossover(parent1, parent2):\n",
        "    child = {}\n",
        "    for key in parent1.keys():\n",
        "        child[key] = np.random.choice([parent1[key], parent2[key]])\n",
        "    return child\n"
      ],
      "metadata": {
        "id": "L_KZo7vGH4nK"
      },
      "execution_count": 14,
      "outputs": []
    },
    {
      "cell_type": "code",
      "source": [
        "# Genetic Algorithm\n",
        "population = [initialize_population() for _ in range(population_size)]\n"
      ],
      "metadata": {
        "id": "GtIxEZ1uH530"
      },
      "execution_count": 15,
      "outputs": []
    },
    {
      "cell_type": "code",
      "source": [
        "for generation in range(num_generations):\n",
        "    fitness_scores = [fitness(params, x_train, y_train, x_test, y_test) for params in population]\n",
        "    selected_indices = np.argsort(fitness_scores)[-population_size // 2:]\n",
        "    selected_population = [population[i] for i in selected_indices]\n",
        "\n",
        "    mutated_population = [mutate(params) for params in selected_population]\n",
        "    crossover_indices = np.random.permutation(len(selected_population))\n",
        "    offspring_population = [crossover(mutated_population[i], mutated_population[crossover_indices[i]]) for i in range(population_size // 2)]\n",
        "\n",
        "    population = selected_population + offspring_population\n"
      ],
      "metadata": {
        "colab": {
          "base_uri": "https://localhost:8080/"
        },
        "id": "I_1znRpuH7IO",
        "outputId": "407831ef-d5f5-458d-ecd7-724f21b00e13"
      },
      "execution_count": 16,
      "outputs": [
        {
          "output_type": "stream",
          "name": "stdout",
          "text": [
            "24/24 [==============================] - 0s 3ms/step\n",
            "5/5 [==============================] - 0s 3ms/step\n",
            "24/24 [==============================] - 0s 3ms/step\n",
            "5/5 [==============================] - 0s 3ms/step\n",
            "24/24 [==============================] - 0s 3ms/step\n",
            "5/5 [==============================] - 0s 3ms/step\n",
            "24/24 [==============================] - 0s 3ms/step\n",
            "5/5 [==============================] - 0s 5ms/step\n",
            "24/24 [==============================] - 0s 3ms/step\n",
            "5/5 [==============================] - 0s 3ms/step\n",
            "24/24 [==============================] - 0s 3ms/step\n",
            "5/5 [==============================] - 0s 3ms/step\n",
            "24/24 [==============================] - 0s 3ms/step\n",
            "5/5 [==============================] - 0s 3ms/step\n",
            "24/24 [==============================] - 0s 3ms/step\n",
            "5/5 [==============================] - 0s 3ms/step\n",
            "24/24 [==============================] - 0s 3ms/step\n",
            "5/5 [==============================] - 0s 3ms/step\n",
            "24/24 [==============================] - 0s 3ms/step\n",
            "5/5 [==============================] - 0s 3ms/step\n",
            "24/24 [==============================] - 0s 3ms/step\n",
            "5/5 [==============================] - 0s 3ms/step\n",
            "24/24 [==============================] - 0s 3ms/step\n",
            "5/5 [==============================] - 0s 3ms/step\n",
            "24/24 [==============================] - 0s 3ms/step\n",
            "5/5 [==============================] - 0s 3ms/step\n",
            "24/24 [==============================] - 0s 3ms/step\n",
            "5/5 [==============================] - 0s 4ms/step\n",
            "24/24 [==============================] - 0s 3ms/step\n",
            "5/5 [==============================] - 0s 3ms/step\n",
            "24/24 [==============================] - 0s 3ms/step\n",
            "5/5 [==============================] - 0s 5ms/step\n",
            "24/24 [==============================] - 0s 3ms/step\n",
            "5/5 [==============================] - 0s 3ms/step\n",
            "24/24 [==============================] - 0s 3ms/step\n",
            "5/5 [==============================] - 0s 4ms/step\n",
            "24/24 [==============================] - 1s 4ms/step\n",
            "5/5 [==============================] - 0s 5ms/step\n",
            "24/24 [==============================] - 0s 3ms/step\n",
            "5/5 [==============================] - 0s 3ms/step\n",
            "24/24 [==============================] - 0s 3ms/step\n",
            "5/5 [==============================] - 0s 3ms/step\n",
            "24/24 [==============================] - 1s 4ms/step\n",
            "5/5 [==============================] - 0s 4ms/step\n",
            "24/24 [==============================] - 0s 3ms/step\n",
            "5/5 [==============================] - 0s 3ms/step\n",
            "24/24 [==============================] - 0s 3ms/step\n",
            "5/5 [==============================] - 0s 3ms/step\n",
            "24/24 [==============================] - 1s 4ms/step\n",
            "5/5 [==============================] - 0s 3ms/step\n",
            "24/24 [==============================] - 0s 3ms/step\n",
            "5/5 [==============================] - 0s 3ms/step\n",
            "24/24 [==============================] - 0s 3ms/step\n",
            "5/5 [==============================] - 0s 3ms/step\n",
            "24/24 [==============================] - 0s 3ms/step\n",
            "5/5 [==============================] - 0s 3ms/step\n",
            "24/24 [==============================] - 0s 3ms/step\n",
            "5/5 [==============================] - 0s 3ms/step\n",
            "24/24 [==============================] - 0s 3ms/step\n",
            "5/5 [==============================] - 0s 3ms/step\n",
            "24/24 [==============================] - 0s 3ms/step\n",
            "5/5 [==============================] - 0s 3ms/step\n",
            "24/24 [==============================] - 0s 3ms/step\n",
            "5/5 [==============================] - 0s 3ms/step\n",
            "24/24 [==============================] - 0s 2ms/step\n",
            "5/5 [==============================] - 0s 3ms/step\n",
            "24/24 [==============================] - 0s 3ms/step\n",
            "5/5 [==============================] - 0s 3ms/step\n",
            "24/24 [==============================] - 0s 3ms/step\n",
            "5/5 [==============================] - 0s 3ms/step\n",
            "24/24 [==============================] - 0s 3ms/step\n",
            "5/5 [==============================] - 0s 3ms/step\n",
            "24/24 [==============================] - 0s 3ms/step\n",
            "5/5 [==============================] - 0s 3ms/step\n",
            "24/24 [==============================] - 0s 2ms/step\n",
            "5/5 [==============================] - 0s 3ms/step\n",
            "24/24 [==============================] - 0s 3ms/step\n",
            "5/5 [==============================] - 0s 3ms/step\n",
            "24/24 [==============================] - 0s 3ms/step\n",
            "5/5 [==============================] - 0s 3ms/step\n",
            "24/24 [==============================] - 0s 3ms/step\n",
            "5/5 [==============================] - 0s 3ms/step\n",
            "24/24 [==============================] - 0s 3ms/step\n",
            "5/5 [==============================] - 0s 3ms/step\n",
            "24/24 [==============================] - 0s 2ms/step\n",
            "5/5 [==============================] - 0s 3ms/step\n",
            "24/24 [==============================] - 0s 3ms/step\n",
            "5/5 [==============================] - 0s 4ms/step\n",
            "24/24 [==============================] - 0s 3ms/step\n",
            "5/5 [==============================] - 0s 4ms/step\n",
            "24/24 [==============================] - 0s 3ms/step\n",
            "5/5 [==============================] - 0s 3ms/step\n",
            "24/24 [==============================] - 0s 3ms/step\n",
            "5/5 [==============================] - 0s 3ms/step\n",
            "24/24 [==============================] - 0s 3ms/step\n",
            "5/5 [==============================] - 0s 3ms/step\n",
            "24/24 [==============================] - 0s 3ms/step\n",
            "5/5 [==============================] - 0s 3ms/step\n",
            "24/24 [==============================] - 0s 3ms/step\n",
            "5/5 [==============================] - 0s 3ms/step\n",
            "24/24 [==============================] - 1s 3ms/step\n",
            "5/5 [==============================] - 0s 3ms/step\n",
            "24/24 [==============================] - 0s 3ms/step\n",
            "5/5 [==============================] - 0s 3ms/step\n",
            "24/24 [==============================] - 0s 3ms/step\n",
            "5/5 [==============================] - 0s 3ms/step\n",
            "24/24 [==============================] - 1s 3ms/step\n",
            "5/5 [==============================] - 0s 3ms/step\n",
            "24/24 [==============================] - 0s 3ms/step\n",
            "5/5 [==============================] - 0s 3ms/step\n",
            "24/24 [==============================] - 0s 3ms/step\n",
            "5/5 [==============================] - 0s 3ms/step\n",
            "24/24 [==============================] - 0s 3ms/step\n",
            "5/5 [==============================] - 0s 3ms/step\n",
            "24/24 [==============================] - 0s 3ms/step\n",
            "5/5 [==============================] - 0s 3ms/step\n",
            "24/24 [==============================] - 0s 3ms/step\n",
            "5/5 [==============================] - 0s 3ms/step\n",
            "24/24 [==============================] - 0s 3ms/step\n",
            "5/5 [==============================] - 0s 3ms/step\n",
            "24/24 [==============================] - 0s 3ms/step\n",
            "5/5 [==============================] - 0s 3ms/step\n",
            "24/24 [==============================] - 0s 3ms/step\n",
            "5/5 [==============================] - 0s 3ms/step\n",
            "24/24 [==============================] - 0s 3ms/step\n",
            "5/5 [==============================] - 0s 3ms/step\n",
            "24/24 [==============================] - 0s 3ms/step\n",
            "5/5 [==============================] - 0s 3ms/step\n",
            "24/24 [==============================] - 0s 3ms/step\n",
            "5/5 [==============================] - 0s 3ms/step\n",
            "24/24 [==============================] - 0s 3ms/step\n",
            "5/5 [==============================] - 0s 4ms/step\n",
            "24/24 [==============================] - 0s 3ms/step\n",
            "5/5 [==============================] - 0s 3ms/step\n",
            "24/24 [==============================] - 1s 4ms/step\n",
            "5/5 [==============================] - 0s 4ms/step\n",
            "24/24 [==============================] - 0s 3ms/step\n",
            "5/5 [==============================] - 0s 3ms/step\n",
            "24/24 [==============================] - 0s 3ms/step\n",
            "5/5 [==============================] - 0s 4ms/step\n",
            "24/24 [==============================] - 1s 4ms/step\n",
            "5/5 [==============================] - 0s 5ms/step\n",
            "24/24 [==============================] - 0s 3ms/step\n",
            "5/5 [==============================] - 0s 3ms/step\n",
            "24/24 [==============================] - 0s 3ms/step\n",
            "5/5 [==============================] - 0s 3ms/step\n",
            "24/24 [==============================] - 1s 4ms/step\n",
            "5/5 [==============================] - 0s 3ms/step\n",
            "24/24 [==============================] - 0s 3ms/step\n",
            "5/5 [==============================] - 0s 3ms/step\n",
            "24/24 [==============================] - 0s 3ms/step\n",
            "5/5 [==============================] - 0s 4ms/step\n",
            "24/24 [==============================] - 1s 3ms/step\n",
            "5/5 [==============================] - 0s 3ms/step\n",
            "24/24 [==============================] - 0s 3ms/step\n",
            "5/5 [==============================] - 0s 3ms/step\n",
            "24/24 [==============================] - 0s 3ms/step\n",
            "5/5 [==============================] - 0s 3ms/step\n",
            "24/24 [==============================] - 1s 3ms/step\n",
            "5/5 [==============================] - 0s 3ms/step\n",
            "24/24 [==============================] - 0s 3ms/step\n",
            "5/5 [==============================] - 0s 3ms/step\n",
            "24/24 [==============================] - 0s 3ms/step\n",
            "5/5 [==============================] - 0s 3ms/step\n",
            "24/24 [==============================] - 0s 3ms/step\n",
            "5/5 [==============================] - 0s 3ms/step\n",
            "24/24 [==============================] - 0s 3ms/step\n",
            "5/5 [==============================] - 0s 3ms/step\n",
            "24/24 [==============================] - 0s 3ms/step\n",
            "5/5 [==============================] - 0s 4ms/step\n",
            "24/24 [==============================] - 0s 3ms/step\n",
            "5/5 [==============================] - 0s 3ms/step\n",
            "24/24 [==============================] - 0s 3ms/step\n",
            "5/5 [==============================] - 0s 3ms/step\n",
            "24/24 [==============================] - 0s 3ms/step\n",
            "5/5 [==============================] - 0s 3ms/step\n",
            "24/24 [==============================] - 0s 3ms/step\n",
            "5/5 [==============================] - 0s 4ms/step\n",
            "24/24 [==============================] - 0s 3ms/step\n",
            "5/5 [==============================] - 0s 3ms/step\n",
            "24/24 [==============================] - 0s 3ms/step\n",
            "5/5 [==============================] - 0s 3ms/step\n",
            "24/24 [==============================] - 0s 3ms/step\n",
            "5/5 [==============================] - 0s 3ms/step\n",
            "24/24 [==============================] - 0s 3ms/step\n",
            "5/5 [==============================] - 0s 3ms/step\n",
            "24/24 [==============================] - 0s 3ms/step\n",
            "5/5 [==============================] - 0s 5ms/step\n",
            "24/24 [==============================] - 0s 3ms/step\n",
            "5/5 [==============================] - 0s 3ms/step\n",
            "24/24 [==============================] - 0s 3ms/step\n",
            "5/5 [==============================] - 0s 4ms/step\n",
            "24/24 [==============================] - 0s 4ms/step\n",
            "5/5 [==============================] - 0s 4ms/step\n",
            "24/24 [==============================] - 0s 3ms/step\n",
            "5/5 [==============================] - 0s 4ms/step\n",
            "24/24 [==============================] - 0s 3ms/step\n",
            "5/5 [==============================] - 0s 3ms/step\n",
            "24/24 [==============================] - 0s 3ms/step\n",
            "5/5 [==============================] - 0s 4ms/step\n",
            "24/24 [==============================] - 0s 3ms/step\n",
            "5/5 [==============================] - 0s 3ms/step\n",
            "24/24 [==============================] - 0s 3ms/step\n",
            "5/5 [==============================] - 0s 3ms/step\n",
            "24/24 [==============================] - 0s 3ms/step\n",
            "5/5 [==============================] - 0s 3ms/step\n",
            "24/24 [==============================] - 0s 3ms/step\n",
            "5/5 [==============================] - 0s 3ms/step\n",
            "24/24 [==============================] - 0s 3ms/step\n",
            "5/5 [==============================] - 0s 3ms/step\n",
            "24/24 [==============================] - 0s 3ms/step\n",
            "5/5 [==============================] - 0s 3ms/step\n",
            "24/24 [==============================] - 0s 3ms/step\n",
            "5/5 [==============================] - 0s 3ms/step\n",
            "24/24 [==============================] - 0s 3ms/step\n",
            "5/5 [==============================] - 0s 4ms/step\n",
            "24/24 [==============================] - 0s 3ms/step\n",
            "5/5 [==============================] - 0s 3ms/step\n",
            "24/24 [==============================] - 0s 3ms/step\n",
            "5/5 [==============================] - 0s 4ms/step\n",
            "24/24 [==============================] - 0s 3ms/step\n",
            "5/5 [==============================] - 0s 3ms/step\n",
            "24/24 [==============================] - 0s 3ms/step\n",
            "5/5 [==============================] - 0s 3ms/step\n",
            "24/24 [==============================] - 0s 2ms/step\n",
            "5/5 [==============================] - 0s 3ms/step\n",
            "24/24 [==============================] - 0s 3ms/step\n",
            "5/5 [==============================] - 0s 3ms/step\n",
            "24/24 [==============================] - 0s 3ms/step\n",
            "5/5 [==============================] - 0s 4ms/step\n",
            "24/24 [==============================] - 0s 3ms/step\n",
            "5/5 [==============================] - 0s 4ms/step\n",
            "24/24 [==============================] - 0s 3ms/step\n",
            "5/5 [==============================] - 0s 3ms/step\n",
            "24/24 [==============================] - 0s 3ms/step\n",
            "5/5 [==============================] - 0s 3ms/step\n",
            "24/24 [==============================] - 0s 3ms/step\n",
            "5/5 [==============================] - 0s 3ms/step\n",
            "24/24 [==============================] - 1s 4ms/step\n",
            "5/5 [==============================] - 0s 5ms/step\n",
            "24/24 [==============================] - 0s 3ms/step\n",
            "5/5 [==============================] - 0s 4ms/step\n",
            "24/24 [==============================] - 0s 3ms/step\n",
            "5/5 [==============================] - 0s 3ms/step\n",
            "24/24 [==============================] - 1s 4ms/step\n",
            "5/5 [==============================] - 0s 6ms/step\n",
            "24/24 [==============================] - 0s 3ms/step\n",
            "5/5 [==============================] - 0s 3ms/step\n",
            "24/24 [==============================] - 0s 3ms/step\n",
            "5/5 [==============================] - 0s 3ms/step\n",
            "24/24 [==============================] - 1s 4ms/step\n",
            "5/5 [==============================] - 0s 4ms/step\n",
            "24/24 [==============================] - 0s 3ms/step\n",
            "5/5 [==============================] - 0s 3ms/step\n",
            "24/24 [==============================] - 0s 3ms/step\n",
            "5/5 [==============================] - 0s 3ms/step\n",
            "24/24 [==============================] - 1s 3ms/step\n",
            "5/5 [==============================] - 0s 3ms/step\n",
            "24/24 [==============================] - 0s 3ms/step\n",
            "5/5 [==============================] - 0s 3ms/step\n",
            "24/24 [==============================] - 0s 3ms/step\n",
            "5/5 [==============================] - 0s 3ms/step\n",
            "24/24 [==============================] - 1s 3ms/step\n",
            "5/5 [==============================] - 0s 3ms/step\n",
            "24/24 [==============================] - 0s 3ms/step\n",
            "5/5 [==============================] - 0s 3ms/step\n",
            "24/24 [==============================] - 0s 3ms/step\n",
            "5/5 [==============================] - 0s 3ms/step\n",
            "24/24 [==============================] - 0s 2ms/step\n",
            "5/5 [==============================] - 0s 3ms/step\n",
            "24/24 [==============================] - 0s 3ms/step\n",
            "5/5 [==============================] - 0s 4ms/step\n",
            "24/24 [==============================] - 0s 3ms/step\n",
            "5/5 [==============================] - 0s 3ms/step\n",
            "24/24 [==============================] - 0s 3ms/step\n",
            "5/5 [==============================] - 0s 3ms/step\n",
            "24/24 [==============================] - 0s 3ms/step\n",
            "5/5 [==============================] - 0s 4ms/step\n",
            "24/24 [==============================] - 0s 3ms/step\n",
            "5/5 [==============================] - 0s 3ms/step\n",
            "24/24 [==============================] - 0s 3ms/step\n",
            "5/5 [==============================] - 0s 3ms/step\n",
            "24/24 [==============================] - 3s 3ms/step\n",
            "5/5 [==============================] - 0s 4ms/step\n",
            "24/24 [==============================] - 1s 3ms/step\n",
            "5/5 [==============================] - 0s 4ms/step\n",
            "24/24 [==============================] - 0s 3ms/step\n",
            "5/5 [==============================] - 0s 3ms/step\n",
            "24/24 [==============================] - 0s 3ms/step\n",
            "5/5 [==============================] - 0s 3ms/step\n",
            "24/24 [==============================] - 1s 3ms/step\n",
            "5/5 [==============================] - 0s 5ms/step\n",
            "24/24 [==============================] - 0s 3ms/step\n",
            "5/5 [==============================] - 0s 4ms/step\n",
            "24/24 [==============================] - 0s 3ms/step\n",
            "5/5 [==============================] - 0s 3ms/step\n",
            "24/24 [==============================] - 1s 4ms/step\n",
            "5/5 [==============================] - 0s 3ms/step\n",
            "24/24 [==============================] - 0s 3ms/step\n",
            "5/5 [==============================] - 0s 3ms/step\n",
            "24/24 [==============================] - 0s 3ms/step\n",
            "5/5 [==============================] - 0s 3ms/step\n",
            "24/24 [==============================] - 1s 5ms/step\n",
            "5/5 [==============================] - 0s 5ms/step\n",
            "24/24 [==============================] - 0s 3ms/step\n",
            "5/5 [==============================] - 0s 4ms/step\n",
            "24/24 [==============================] - 0s 3ms/step\n",
            "5/5 [==============================] - 0s 3ms/step\n",
            "24/24 [==============================] - 0s 3ms/step\n",
            "5/5 [==============================] - 0s 3ms/step\n",
            "24/24 [==============================] - 0s 3ms/step\n",
            "5/5 [==============================] - 0s 3ms/step\n",
            "24/24 [==============================] - 0s 3ms/step\n",
            "5/5 [==============================] - 0s 4ms/step\n",
            "24/24 [==============================] - 0s 3ms/step\n",
            "5/5 [==============================] - 0s 3ms/step\n",
            "24/24 [==============================] - 0s 3ms/step\n",
            "5/5 [==============================] - 0s 3ms/step\n",
            "24/24 [==============================] - 0s 3ms/step\n",
            "5/5 [==============================] - 0s 3ms/step\n",
            "24/24 [==============================] - 0s 3ms/step\n",
            "5/5 [==============================] - 0s 4ms/step\n",
            "24/24 [==============================] - 0s 3ms/step\n",
            "5/5 [==============================] - 0s 3ms/step\n",
            "24/24 [==============================] - 0s 3ms/step\n",
            "5/5 [==============================] - 0s 3ms/step\n",
            "24/24 [==============================] - 0s 3ms/step\n",
            "5/5 [==============================] - 0s 4ms/step\n",
            "24/24 [==============================] - 0s 3ms/step\n",
            "5/5 [==============================] - 0s 3ms/step\n",
            "24/24 [==============================] - 0s 3ms/step\n",
            "5/5 [==============================] - 0s 3ms/step\n",
            "24/24 [==============================] - 0s 3ms/step\n",
            "5/5 [==============================] - 0s 3ms/step\n",
            "24/24 [==============================] - 0s 3ms/step\n",
            "5/5 [==============================] - 0s 3ms/step\n",
            "24/24 [==============================] - 1s 3ms/step\n",
            "5/5 [==============================] - 0s 3ms/step\n",
            "24/24 [==============================] - 0s 3ms/step\n",
            "5/5 [==============================] - 0s 3ms/step\n",
            "24/24 [==============================] - 0s 3ms/step\n",
            "5/5 [==============================] - 0s 4ms/step\n",
            "24/24 [==============================] - 0s 3ms/step\n",
            "5/5 [==============================] - 0s 3ms/step\n",
            "24/24 [==============================] - 0s 3ms/step\n",
            "5/5 [==============================] - 0s 4ms/step\n",
            "24/24 [==============================] - 0s 3ms/step\n",
            "5/5 [==============================] - 0s 3ms/step\n",
            "24/24 [==============================] - 0s 3ms/step\n",
            "5/5 [==============================] - 0s 3ms/step\n",
            "24/24 [==============================] - 0s 3ms/step\n",
            "5/5 [==============================] - 0s 3ms/step\n",
            "24/24 [==============================] - 0s 3ms/step\n",
            "5/5 [==============================] - 0s 4ms/step\n",
            "24/24 [==============================] - 0s 3ms/step\n",
            "5/5 [==============================] - 0s 4ms/step\n",
            "24/24 [==============================] - 0s 3ms/step\n",
            "5/5 [==============================] - 0s 4ms/step\n",
            "24/24 [==============================] - 0s 3ms/step\n",
            "5/5 [==============================] - 0s 3ms/step\n",
            "24/24 [==============================] - 0s 3ms/step\n",
            "5/5 [==============================] - 0s 5ms/step\n",
            "24/24 [==============================] - 0s 3ms/step\n",
            "5/5 [==============================] - 0s 3ms/step\n",
            "24/24 [==============================] - 0s 3ms/step\n",
            "5/5 [==============================] - 0s 3ms/step\n",
            "24/24 [==============================] - 0s 3ms/step\n",
            "5/5 [==============================] - 0s 3ms/step\n",
            "24/24 [==============================] - 0s 3ms/step\n",
            "5/5 [==============================] - 0s 3ms/step\n",
            "24/24 [==============================] - 0s 3ms/step\n",
            "5/5 [==============================] - 0s 3ms/step\n",
            "24/24 [==============================] - 0s 3ms/step\n",
            "5/5 [==============================] - 0s 3ms/step\n",
            "24/24 [==============================] - 0s 3ms/step\n",
            "5/5 [==============================] - 0s 3ms/step\n",
            "24/24 [==============================] - 0s 3ms/step\n",
            "5/5 [==============================] - 0s 3ms/step\n",
            "24/24 [==============================] - 0s 3ms/step\n",
            "5/5 [==============================] - 0s 3ms/step\n",
            "24/24 [==============================] - 0s 3ms/step\n",
            "5/5 [==============================] - 0s 4ms/step\n",
            "24/24 [==============================] - 0s 3ms/step\n",
            "5/5 [==============================] - 0s 3ms/step\n",
            "24/24 [==============================] - 0s 3ms/step\n",
            "5/5 [==============================] - 0s 3ms/step\n",
            "24/24 [==============================] - 0s 3ms/step\n",
            "5/5 [==============================] - 0s 3ms/step\n",
            "24/24 [==============================] - 0s 3ms/step\n",
            "5/5 [==============================] - 0s 3ms/step\n",
            "24/24 [==============================] - 0s 3ms/step\n",
            "5/5 [==============================] - 0s 3ms/step\n",
            "24/24 [==============================] - 0s 3ms/step\n",
            "5/5 [==============================] - 0s 3ms/step\n",
            "24/24 [==============================] - 0s 3ms/step\n",
            "5/5 [==============================] - 0s 4ms/step\n",
            "24/24 [==============================] - 0s 3ms/step\n",
            "5/5 [==============================] - 0s 4ms/step\n",
            "24/24 [==============================] - 0s 3ms/step\n",
            "5/5 [==============================] - 0s 3ms/step\n"
          ]
        }
      ]
    },
    {
      "cell_type": "code",
      "source": [
        "best_params = population[np.argmax([fitness(params, x_train, y_train, x_test, y_test) for params in population])]\n"
      ],
      "metadata": {
        "colab": {
          "base_uri": "https://localhost:8080/"
        },
        "id": "PZ7mxsXWH9BO",
        "outputId": "46fdc729-9395-40fa-eb42-be8e4f0d622a"
      },
      "execution_count": 17,
      "outputs": [
        {
          "output_type": "stream",
          "name": "stdout",
          "text": [
            "24/24 [==============================] - 0s 3ms/step\n",
            "5/5 [==============================] - 0s 4ms/step\n",
            "24/24 [==============================] - 0s 3ms/step\n",
            "5/5 [==============================] - 0s 4ms/step\n",
            "24/24 [==============================] - 1s 3ms/step\n",
            "5/5 [==============================] - 0s 4ms/step\n",
            "24/24 [==============================] - 0s 3ms/step\n",
            "5/5 [==============================] - 0s 3ms/step\n",
            "24/24 [==============================] - 0s 3ms/step\n",
            "5/5 [==============================] - 0s 4ms/step\n",
            "24/24 [==============================] - 1s 4ms/step\n",
            "5/5 [==============================] - 0s 4ms/step\n",
            "24/24 [==============================] - 0s 3ms/step\n",
            "5/5 [==============================] - 0s 3ms/step\n",
            "24/24 [==============================] - 0s 3ms/step\n",
            "5/5 [==============================] - 0s 3ms/step\n",
            "24/24 [==============================] - 1s 4ms/step\n",
            "5/5 [==============================] - 0s 5ms/step\n",
            "24/24 [==============================] - 0s 3ms/step\n",
            "5/5 [==============================] - 0s 3ms/step\n",
            "24/24 [==============================] - 0s 3ms/step\n",
            "5/5 [==============================] - 0s 3ms/step\n",
            "24/24 [==============================] - 1s 4ms/step\n",
            "5/5 [==============================] - 0s 6ms/step\n",
            "24/24 [==============================] - 0s 3ms/step\n",
            "5/5 [==============================] - 0s 3ms/step\n",
            "24/24 [==============================] - 0s 3ms/step\n",
            "5/5 [==============================] - 0s 3ms/step\n",
            "24/24 [==============================] - 1s 4ms/step\n",
            "5/5 [==============================] - 0s 5ms/step\n",
            "24/24 [==============================] - 0s 3ms/step\n",
            "5/5 [==============================] - 0s 3ms/step\n",
            "24/24 [==============================] - 0s 3ms/step\n",
            "5/5 [==============================] - 0s 3ms/step\n",
            "24/24 [==============================] - 1s 4ms/step\n",
            "5/5 [==============================] - 0s 3ms/step\n",
            "24/24 [==============================] - 0s 3ms/step\n",
            "5/5 [==============================] - 0s 3ms/step\n",
            "24/24 [==============================] - 0s 3ms/step\n",
            "5/5 [==============================] - 0s 4ms/step\n"
          ]
        }
      ]
    },
    {
      "cell_type": "code",
      "source": [
        "# Train the final LSTM model with the best hyperparameters\n",
        "best_lstm_model = create_lstm_model(best_params['lstm_units'], best_params['dropout_rate'], best_params['learning_rate'])\n",
        "best_lstm_model.fit(x_train, y_train, epochs=50, batch_size=32, verbose=2)\n"
      ],
      "metadata": {
        "colab": {
          "base_uri": "https://localhost:8080/"
        },
        "id": "Y9JzMKt0H-ff",
        "outputId": "5dd53bca-ca48-44e5-bc5f-953a5602bbd8"
      },
      "execution_count": 18,
      "outputs": [
        {
          "output_type": "stream",
          "name": "stdout",
          "text": [
            "Epoch 1/50\n",
            "24/24 - 2s - loss: 0.0357 - 2s/epoch - 84ms/step\n",
            "Epoch 2/50\n",
            "24/24 - 0s - loss: 0.0046 - 173ms/epoch - 7ms/step\n",
            "Epoch 3/50\n",
            "24/24 - 0s - loss: 0.0030 - 155ms/epoch - 6ms/step\n",
            "Epoch 4/50\n",
            "24/24 - 0s - loss: 0.0025 - 159ms/epoch - 7ms/step\n",
            "Epoch 5/50\n",
            "24/24 - 0s - loss: 0.0026 - 157ms/epoch - 7ms/step\n",
            "Epoch 6/50\n",
            "24/24 - 0s - loss: 0.0023 - 152ms/epoch - 6ms/step\n",
            "Epoch 7/50\n",
            "24/24 - 0s - loss: 0.0021 - 152ms/epoch - 6ms/step\n",
            "Epoch 8/50\n",
            "24/24 - 0s - loss: 0.0021 - 157ms/epoch - 7ms/step\n",
            "Epoch 9/50\n",
            "24/24 - 0s - loss: 0.0021 - 158ms/epoch - 7ms/step\n",
            "Epoch 10/50\n",
            "24/24 - 0s - loss: 0.0021 - 154ms/epoch - 6ms/step\n",
            "Epoch 11/50\n",
            "24/24 - 0s - loss: 0.0020 - 163ms/epoch - 7ms/step\n",
            "Epoch 12/50\n",
            "24/24 - 0s - loss: 0.0021 - 167ms/epoch - 7ms/step\n",
            "Epoch 13/50\n",
            "24/24 - 0s - loss: 0.0019 - 144ms/epoch - 6ms/step\n",
            "Epoch 14/50\n",
            "24/24 - 0s - loss: 0.0017 - 126ms/epoch - 5ms/step\n",
            "Epoch 15/50\n",
            "24/24 - 0s - loss: 0.0018 - 118ms/epoch - 5ms/step\n",
            "Epoch 16/50\n",
            "24/24 - 0s - loss: 0.0020 - 115ms/epoch - 5ms/step\n",
            "Epoch 17/50\n",
            "24/24 - 0s - loss: 0.0018 - 118ms/epoch - 5ms/step\n",
            "Epoch 18/50\n",
            "24/24 - 0s - loss: 0.0018 - 118ms/epoch - 5ms/step\n",
            "Epoch 19/50\n",
            "24/24 - 0s - loss: 0.0017 - 119ms/epoch - 5ms/step\n",
            "Epoch 20/50\n",
            "24/24 - 0s - loss: 0.0017 - 118ms/epoch - 5ms/step\n",
            "Epoch 21/50\n",
            "24/24 - 0s - loss: 0.0020 - 123ms/epoch - 5ms/step\n",
            "Epoch 22/50\n",
            "24/24 - 0s - loss: 0.0018 - 114ms/epoch - 5ms/step\n",
            "Epoch 23/50\n",
            "24/24 - 0s - loss: 0.0017 - 126ms/epoch - 5ms/step\n",
            "Epoch 24/50\n",
            "24/24 - 0s - loss: 0.0017 - 131ms/epoch - 5ms/step\n",
            "Epoch 25/50\n",
            "24/24 - 0s - loss: 0.0018 - 118ms/epoch - 5ms/step\n",
            "Epoch 26/50\n",
            "24/24 - 0s - loss: 0.0020 - 117ms/epoch - 5ms/step\n",
            "Epoch 27/50\n",
            "24/24 - 0s - loss: 0.0016 - 117ms/epoch - 5ms/step\n",
            "Epoch 28/50\n",
            "24/24 - 0s - loss: 0.0015 - 123ms/epoch - 5ms/step\n",
            "Epoch 29/50\n",
            "24/24 - 0s - loss: 0.0015 - 122ms/epoch - 5ms/step\n",
            "Epoch 30/50\n",
            "24/24 - 0s - loss: 0.0017 - 119ms/epoch - 5ms/step\n",
            "Epoch 31/50\n",
            "24/24 - 0s - loss: 0.0017 - 126ms/epoch - 5ms/step\n",
            "Epoch 32/50\n",
            "24/24 - 0s - loss: 0.0015 - 124ms/epoch - 5ms/step\n",
            "Epoch 33/50\n",
            "24/24 - 0s - loss: 0.0015 - 123ms/epoch - 5ms/step\n",
            "Epoch 34/50\n",
            "24/24 - 0s - loss: 0.0016 - 119ms/epoch - 5ms/step\n",
            "Epoch 35/50\n",
            "24/24 - 0s - loss: 0.0015 - 119ms/epoch - 5ms/step\n",
            "Epoch 36/50\n",
            "24/24 - 0s - loss: 0.0015 - 119ms/epoch - 5ms/step\n",
            "Epoch 37/50\n",
            "24/24 - 0s - loss: 0.0015 - 122ms/epoch - 5ms/step\n",
            "Epoch 38/50\n",
            "24/24 - 0s - loss: 0.0015 - 114ms/epoch - 5ms/step\n",
            "Epoch 39/50\n",
            "24/24 - 0s - loss: 0.0015 - 120ms/epoch - 5ms/step\n",
            "Epoch 40/50\n",
            "24/24 - 0s - loss: 0.0014 - 121ms/epoch - 5ms/step\n",
            "Epoch 41/50\n",
            "24/24 - 0s - loss: 0.0014 - 121ms/epoch - 5ms/step\n",
            "Epoch 42/50\n",
            "24/24 - 0s - loss: 0.0014 - 122ms/epoch - 5ms/step\n",
            "Epoch 43/50\n",
            "24/24 - 0s - loss: 0.0017 - 125ms/epoch - 5ms/step\n",
            "Epoch 44/50\n",
            "24/24 - 0s - loss: 0.0014 - 119ms/epoch - 5ms/step\n",
            "Epoch 45/50\n",
            "24/24 - 0s - loss: 0.0016 - 122ms/epoch - 5ms/step\n",
            "Epoch 46/50\n",
            "24/24 - 0s - loss: 0.0013 - 116ms/epoch - 5ms/step\n",
            "Epoch 47/50\n",
            "24/24 - 0s - loss: 0.0013 - 115ms/epoch - 5ms/step\n",
            "Epoch 48/50\n",
            "24/24 - 0s - loss: 0.0014 - 123ms/epoch - 5ms/step\n",
            "Epoch 49/50\n",
            "24/24 - 0s - loss: 0.0013 - 123ms/epoch - 5ms/step\n",
            "Epoch 50/50\n",
            "24/24 - 0s - loss: 0.0014 - 117ms/epoch - 5ms/step\n"
          ]
        },
        {
          "output_type": "execute_result",
          "data": {
            "text/plain": [
              "<keras.src.callbacks.History at 0x7a99cf1f77f0>"
            ]
          },
          "metadata": {},
          "execution_count": 18
        }
      ]
    },
    {
      "cell_type": "code",
      "source": [
        "# Make predictions on the test set\n",
        "test_predictions = best_lstm_model.predict(x_test)"
      ],
      "metadata": {
        "colab": {
          "base_uri": "https://localhost:8080/"
        },
        "id": "VUkNqPPVIBHz",
        "outputId": "dcabf84e-3d30-4045-93e3-08a0d6f72406"
      },
      "execution_count": 19,
      "outputs": [
        {
          "output_type": "stream",
          "name": "stdout",
          "text": [
            "5/5 [==============================] - 0s 4ms/step\n"
          ]
        }
      ]
    },
    {
      "cell_type": "code",
      "source": [
        "# Inverse transform to get the original scale\n",
        "test_predictions_inverse = scaler.inverse_transform(test_predictions)\n",
        "y_test_inverse = scaler.inverse_transform(y_test.reshape(-1, 1))\n"
      ],
      "metadata": {
        "id": "8UYyZzFOICJI"
      },
      "execution_count": 20,
      "outputs": []
    },
    {
      "cell_type": "code",
      "source": [
        "# Evaluate the model\n",
        "test_mse = mean_squared_error(y_test_inverse, test_predictions_inverse)\n",
        "print(f\"Test Mean Squared Error: {test_mse}\")\n"
      ],
      "metadata": {
        "colab": {
          "base_uri": "https://localhost:8080/"
        },
        "id": "3H_9gAXxIDPk",
        "outputId": "eb158fba-9a8b-46d3-e3cf-962aec4e6a46"
      },
      "execution_count": 21,
      "outputs": [
        {
          "output_type": "stream",
          "name": "stdout",
          "text": [
            "Test Mean Squared Error: 17.9070978500162\n"
          ]
        }
      ]
    },
    {
      "cell_type": "code",
      "source": [
        "# Plot actual vs. predicted values\n",
        "plt.figure(figsize=(15, 6))\n",
        "plt.plot(y_test_inverse, label='Actual', marker='.')\n",
        "plt.plot(test_predictions_inverse, label='Predicted', marker='.')\n",
        "plt.title('Stock Price Prediction using LSTM with Genetic Algorithm')\n",
        "plt.xlabel('Time')\n",
        "plt.ylabel('Closing Price')\n",
        "plt.legend()\n",
        "plt.show()"
      ],
      "metadata": {
        "colab": {
          "base_uri": "https://localhost:8080/",
          "height": 564
        },
        "id": "QoaDQsbnIEoF",
        "outputId": "9f80eb35-ecec-418e-a789-fc880f1b413f"
      },
      "execution_count": 22,
      "outputs": [
        {
          "output_type": "display_data",
          "data": {
            "text/plain": [
              "<Figure size 1500x600 with 1 Axes>"
            ],
            "image/png": "[encoded data removed]"
          },
          "metadata": {}
        }
      ]
    },
    {
      "cell_type": "code",
      "source": [],
      "metadata": {
        "id": "HEUJTtZIIF75"
      },
      "execution_count": 22,
      "outputs": []
    }
  ]
}